{
 "cells": [
  {
   "attachments": {},
   "cell_type": "markdown",
   "metadata": {},
   "source": [
    "**Membres du groupes :**\\\n",
    "    - Hatim Mrabet \\\n",
    "    - Abderrahmane Echaarani \\\n",
    "    - Mohammed El-Adli \\\n",
    "    - Aya Khazri \\\n",
    "    - Nour El Hassan"
   ]
  },
  {
   "cell_type": "code",
   "execution_count": 607,
   "metadata": {},
   "outputs": [],
   "source": [
    "# Modules de base\n",
    "\n",
    "import numpy as np\n",
    "import matplotlib.pyplot as plt\n",
    "%matplotlib inline\n",
    "import pandas as pd\n",
    "from prettytable import PrettyTable\n",
    "\n",
    "\n",
    "# Module relatif à Gurobi\n",
    "from gurobipy import *\n",
    "\n",
    "# Module csv\n",
    "import csv\n",
    "\n",
    "# Module pickle\n",
    "import pickle"
   ]
  },
  {
   "attachments": {},
   "cell_type": "markdown",
   "metadata": {},
   "source": [
    "Importation des données sous formats csv. On transforme chaque feuille du fichier DataSeating.xlsx en un fichier csv."
   ]
  },
  {
   "cell_type": "code",
   "execution_count": 608,
   "metadata": {},
   "outputs": [],
   "source": [
    "# Load Excel file into a pandas ExcelFile object\n",
    "xls = pd.ExcelFile(\"DataSeating0.xlsx\")\n",
    "\n",
    "# Iterate over each sheet in the Excel file and save as CSV\n",
    "for sheet_name in xls.sheet_names:\n",
    "    # Load the sheet into a pandas DataFrame\n",
    "    df = pd.read_excel(xls, sheet_name=sheet_name)\n",
    "    df = df.rename(columns={'Numéro du groupe': 'Numero du groupe'})\n",
    "    df = df.drop(df.index[-1]) # Les deux dernières lignes donnent des informations concernant les passagers (nombres de passagers et de groupes...)\n",
    "    df = df.drop(df.index[-1]) # et ne respectent donc pas la structure du csv, on les supprime.\n",
    "\n",
    "\n",
    "\n",
    "    # Save the DataFrame as a CSV file with the sheet name as the file name\n",
    "    csv_file_name = f'{sheet_name}.csv'\n",
    "    df.to_csv(csv_file_name, index=False)"
   ]
  },
  {
   "cell_type": "code",
   "execution_count": 609,
   "metadata": {},
   "outputs": [],
   "source": [
    "# Choisir l'instance à étudier\n",
    "\n",
    "# data_file = \"21Oct.csv\"\n",
    "# data_file = \"22Oct.csv\"\n",
    "# data_file = \"23Oct.csv\"\n",
    "# data_file = \"24Oct.csv\"\n",
    "# data_file = \"26Oct.csv\"\n",
    "# data_file = \"30Oct.csv\"\n",
    "# data_file = \"2Nov.csv\"\n",
    "# data_file = \"5Nov.csv\"\n",
    "data_file = \"7Nov.csv\"\n",
    "\n",
    "date = data_file[0:-4]\n",
    "\n",
    "\n",
    "\n",
    "Passengers = dict() # Dictionnaire qui définit les passagers\n",
    "Groupes = dict() # Dictionnaire qui définit les groupes\n",
    "M = 0\n",
    "B = 0\n",
    "Enfants_Y = 0\n",
    "Adultes_Y = 0\n",
    "Enfants_J = 0\n",
    "Adultes_J = 0\n",
    "\n",
    "\n",
    "# Chargement des donnees\n",
    "with open(data_file) as DataFile:\n",
    "    reader = csv.DictReader(DataFile)\n",
    "    for row in reader:\n",
    "        d = int(float(row['Numero du groupe']))\n",
    "\n",
    "        if row[\"Femmes\"] == '': row[\"Femmes\"] = 0\n",
    "        if row[\"Hommes\"] == '': row[\"Hommes\"] = 0\n",
    "        if row[\"Enfants\"] == '': row[\"Enfants\"] = 0\n",
    "        if row[\"WCHR\"] == '': row[\"WCHR\"] = 0\n",
    "        if row[\"WCHB\"] == '': row[\"WCHB\"] = 0\n",
    "        if row[\"TransitTime\"][1] == \":\" : row[\"TransitTime\"] = \"0\" + row[\"TransitTime\"]\n",
    "        if row[\"TransitTime\"][:2] == \"12\" : row[\"TransitTime\"] = \"00\" + row[\"TransitTime\"][2:]\n",
    "\n",
    "        Gcount = int(float(row['Femmes'])) + int(float(row['Hommes'])) + int(float(row['Enfants'])) + int(float(row['WCHR'])) + int(float(row['WCHB']))\n",
    "        if row['Classe'] == 'Y' :\n",
    "            Enfants_Y += int(float(row['Enfants']))\n",
    "            Adultes_Y += int(float(row['Hommes'])) + int(float(row['Femmes']))\n",
    "\n",
    "        if row[\"Classe\"] == \"J\":\n",
    "            B += int(float(row['Femmes'])) + int(float(row['Hommes'])) + int(float(row['Enfants'])) + int(float(row['WCHR'])) + int(float(row['WCHB']))\n",
    "            Enfants_J += int(float(row['Enfants']))\n",
    "            Adultes_J += int(float(row['Hommes'])) + int(float(row['Femmes']))\n",
    "\n",
    "            \n",
    "        if int(float(row['Femmes'])) > 0 :\n",
    "            for i in range(M+1,M+int(float(row['Femmes'])) + 1):\n",
    "                Passengers[i] = {\"Numero de groupe\" : d, \"Cardinal du Groupe\" : Gcount, \"Type\": 'Femme', \"Classe\" : row['Classe'], \"TransitTime\" : int(row['TransitTime'][:2])*60 + int(row['TransitTime'][3:5])}\n",
    "        if int(float(row['Hommes'])) > 0 :\n",
    "            for i in range(M+int(float(row['Femmes'])) + 1,M + int(float(row['Femmes'])) + int(float(row['Hommes'])) + 1):\n",
    "                Passengers[i] = {\"Numero de groupe\" : d, \"Cardinal du Groupe\" : Gcount, \"Type\": 'Homme', \"Classe\" : row['Classe'], \"TransitTime\" : int(row['TransitTime'][:2])*60 + int(row['TransitTime'][3:5])}\n",
    "        if int(float(row['Enfants'])) > 0 :\n",
    "            for i in range(M + int(float(row['Femmes'])) + int(float(row['Hommes'])) + 1,M + int(float(row['Femmes'])) + int(float(row['Hommes'])) + int(float(row['Enfants'])) + 1):\n",
    "                Passengers[i] = {\"Numero de groupe\" : d, \"Cardinal du Groupe\" : Gcount, \"Type\": 'Enfant', \"Classe\": row['Classe'], \"TransitTime\" : int(row['TransitTime'][:2])*60 + int(row['TransitTime'][3:5])}\n",
    "        if int(float(row['WCHB'])) > 0 :\n",
    "            for i in range(M + int(float(row['Femmes'])) + int(float(row['Hommes'])) + int(float(row['Enfants'])) + 1,M + int(float(row['Femmes'])) + int(float(row['Hommes'])) + int(float(row['Enfants'])) + int(float(row['WCHB']))+1):\n",
    "                Passengers[i] = {\"Numero de groupe\" : d, \"Cardinal du Groupe\" : Gcount, \"Type\": 'WCHB', \"Classe\" : row['Classe'], \"TransitTime\": int(row['TransitTime'][:2])*60 + int(row['TransitTime'][3:5])}\n",
    "        if int(float(row['WCHR'])) > 0 :\n",
    "            for i in range(M + int(float(row['Femmes'])) + int(float(row['Hommes'])) + int(float(row['Enfants'])) + int(float(row['WCHB'])) + 1,M + int(float(row['Femmes'])) + int(float(row['Hommes'])) + int(float(row['Enfants'])) + int(float(row['WCHB'])) + int(float(row['WCHR'])) + 1):\n",
    "                Passengers[i] = {\"Numero de groupe\" : d, \"Cardinal du Groupe\" : Gcount, \"Type\": 'WCHR', \"Classe\" : row['Classe'], \"TransitTime\": int(row['TransitTime'][:2])*60 + int(row['TransitTime'][3:5])}\n",
    "        Groupes[d] = [i for i in range(M+1,M+Gcount+1)]      \n",
    "        M += Gcount\n",
    "\n",
    "    \n",
    "\n",
    "# print(Passengers)\n",
    "# print(Groupes)"
   ]
  },
  {
   "attachments": {},
   "cell_type": "markdown",
   "metadata": {},
   "source": [
    "***Dictionnaire Passengers***\n",
    "\n",
    "Le dictionnaire Passengers a pour clé le numéro de passager (compris entre 1 et M), et pour valeurs un dictionnaire avec les informations concernant le passager : \\\n",
    "    - numéro du groupe auquel appartient le passager \\\n",
    "    - le nombre de passagers dans ce groupes \\\n",
    "    - le type : Femme, Homme, Enfant, WCHR ou WCHB \\\n",
    "    - Classe : classe du passager \\\n",
    "    - TransitTime : le temps du transit du passager \\\n",
    "Si on veut accéder par exemple au type du passager 5, on écrit Passengers[5]['Type']\n",
    "\n",
    "***Dictionnaire Groupes***\n",
    "\n",
    "Le dictionnaire Groupes a pour clé le numéro de groupe et pour valeurs la liste des passagers de chaque groupe. \\\n",
    "Si on veut accéder aux passagers du groupe 11, on écrit Groupes[11]"
   ]
  },
  {
   "cell_type": "code",
   "execution_count": 610,
   "metadata": {},
   "outputs": [],
   "source": [
    "# Calcul des chiffres utiles pour la modélisation du problème (Les valeurs varient selon la dataset importée)\n",
    "# A noter que le nombre de siège peut être insuffisant pour quelques instances, il faut donc augmenter le nombre de rangées\n",
    "\n",
    "if data_file == \"7Nov.csv\" :\n",
    "    Nb_rows = 35 # Nombre de rangées (de 1 à 35) pour le modèle d'avion A321\n",
    "else :\n",
    "    Nb_rows = 29 # Nombre de rangées (de 1 à 29) pour le modèle d'avion A320\n",
    "Nb_rows2 = 7 # Nombre de colonne (A B C (couloir) D E F), \n",
    "Nb_passengers = M # Nombre de passagers\n",
    "Nb_groups = len(Groupes) # Nombre de groupes\n",
    "Nb_business_passengers = B # Nombre de passager en cabine Business\n",
    "Rangées_Business = Nb_business_passengers//4 + 1 # Nombre de rangées dans la cabine Business si celle existe"
   ]
  },
  {
   "cell_type": "code",
   "execution_count": 611,
   "metadata": {},
   "outputs": [
    {
     "name": "stdout",
     "output_type": "stream",
     "text": [
      "160\n",
      "89\n",
      "25\n",
      "19\n",
      "109\n",
      "2\n",
      "23\n"
     ]
    }
   ],
   "source": [
    "print(Nb_passengers)\n",
    "print(Nb_groups)\n",
    "print(Nb_business_passengers)\n",
    "print(Enfants_Y)\n",
    "print(Adultes_Y)\n",
    "print(Enfants_J)\n",
    "print(Adultes_J)"
   ]
  },
  {
   "cell_type": "code",
   "execution_count": 612,
   "metadata": {},
   "outputs": [],
   "source": [
    "# Dictionnaire pour définir le poids de chaque type de passager\n",
    "\n",
    "Poids = {\n",
    "    \"Homme\" : 85,\n",
    "    \"Femme\" : 70,\n",
    "    \"Enfant\" : 35,\n",
    "    \"WCHR\" : 100,\n",
    "    \"WCHB\" : 95\n",
    "}"
   ]
  },
  {
   "attachments": {},
   "cell_type": "markdown",
   "metadata": {},
   "source": [
    "Les variables binaires $x_{i,j,k}$ précisent si le siège situé à la position $(i,j)$ est occupé par le passager $k$\n",
    "\n",
    "Les variables entières $X_{min}[g]$ et $X_{max}[g]$ (resp. $Y_{min}[g]$ et $Y_{max}[g]$) donnent la valeur de $i$ (resp. la valeur de $j$) la plus petite et la plus grande dans le groupe $g$."
   ]
  },
  {
   "cell_type": "code",
   "execution_count": 613,
   "metadata": {},
   "outputs": [],
   "source": [
    "# Initialisation du modèle\n",
    "m = Model(\"Projet ST7\")\n",
    "\n",
    "# Variables x_{i,j,k}\n",
    "occupied_seat = {(i,j,k) : m.addVar(vtype = GRB.BINARY, name=f'x_{i}_{j}_{k}') for i in range(1, Nb_rows + 1) for j in range(1, Nb_rows2 + 1) for k in range(1, Nb_passengers + 1)}\n",
    "\n",
    "# Variables X_{min}, X_{max}, Y_{min} et Y_{max}\n",
    "X_min = {g : m.addVar(vtype = GRB.INTEGER, lb = 1 , ub = Nb_rows , name=f'X_min({g})') for g in range(1, Nb_groups + 1) if len(Groupes[g]) >= 2}\n",
    "X_max = {g : m.addVar(vtype = GRB.INTEGER, lb = 1 , ub = Nb_rows , name=f'X_max({g})') for g in range(1, Nb_groups + 1) if len(Groupes[g]) >= 2}\n",
    "Y_min = {g : m.addVar(vtype = GRB.INTEGER, lb = 1 , ub = Nb_rows2 , name=f'Y_min({g})') for g in range(1, Nb_groups + 1) if len(Groupes[g]) >= 2}\n",
    "Y_max = {g : m.addVar(vtype = GRB.INTEGER, lb = 1 , ub = Nb_rows2 , name=f'Y_max({g})') for g in range(1, Nb_groups + 1) if len(Groupes[g]) >= 2}"
   ]
  },
  {
   "attachments": {},
   "cell_type": "markdown",
   "metadata": {},
   "source": [
    "Ajout des contraintes du problèmes."
   ]
  },
  {
   "cell_type": "code",
   "execution_count": 614,
   "metadata": {},
   "outputs": [],
   "source": [
    "# Chaque passager est affecté à un seul siège\n",
    "\n",
    "c1 = {k : m.addConstr(quicksum([occupied_seat[(i, j, k)] for i in range(1, Nb_rows + 1) for j in range(1, Nb_rows2 + 1)]) == 1, name = f'c1_{k}') for k in range(1, Nb_passengers + 1)}"
   ]
  },
  {
   "cell_type": "code",
   "execution_count": 615,
   "metadata": {},
   "outputs": [],
   "source": [
    "# Chaque siège peut être attribué à au plus un passager\n",
    "\n",
    "c2 = {(i,j) : m.addConstr(quicksum([occupied_seat[(i, j, k)] for k in range(1, Nb_passengers + 1)]) <= 1, name = f'c2_{(i,j)}') for i in range(1, Nb_rows + 1) for j in range(1, Nb_rows2 + 1)}"
   ]
  },
  {
   "cell_type": "code",
   "execution_count": 616,
   "metadata": {},
   "outputs": [],
   "source": [
    "# Contraintes sur les variables X_min, X_max, Y_min, Y_max\n",
    "\n",
    "c3_1 = {(g,p) : m.addConstr(X_min[g] <= quicksum([i*occupied_seat[(i,j,Groupes[g][p])] for i in range(1, Nb_rows + 1) for j in range(1, Nb_rows2 + 1)]), name = f'c3_1{g}') for g in range(1,Nb_groups + 1) for p in range(len(Groupes[g])) if len(Groupes[g]) >= 2}\n",
    "c3_2 = {(g,p) : m.addConstr(Y_min[g] <= quicksum([j*occupied_seat[(i,j,Groupes[g][p])] for i in range(1, Nb_rows + 1) for j in range(1, Nb_rows2 + 1)]), name = f'c3_2{g}') for g in range(1,Nb_groups + 1) for p in range(len(Groupes[g])) if len(Groupes[g]) >= 2}\n",
    "c3_3 = {(g,p) : m.addConstr(X_max[g] >= quicksum([i*occupied_seat[(i,j,Groupes[g][p])] for i in range(1, Nb_rows + 1) for j in range(1, Nb_rows2 + 1)]), name = f'c3_3{g}') for g in range(1,Nb_groups + 1) for p in range(len(Groupes[g])) if len(Groupes[g]) >= 2}\n",
    "c3_4 = {(g,p) : m.addConstr(Y_max[g] >= quicksum([j*occupied_seat[(i,j,Groupes[g][p])] for i in range(1, Nb_rows + 1) for j in range(1, Nb_rows2 + 1)]), name = f'c3_4{g}') for g in range(1,Nb_groups + 1) for p in range(len(Groupes[g])) if len(Groupes[g]) >= 2}"
   ]
  },
  {
   "cell_type": "code",
   "execution_count": 617,
   "metadata": {},
   "outputs": [],
   "source": [
    "#Barycentre\n",
    "\n",
    "barycentre_x = quicksum([j*Poids[Passengers[k]['Type']]*occupied_seat[(i,j,k)] for i in range(1, Nb_rows + 1) for j in range(1, Nb_rows2 + 1) for k in range(1, Nb_passengers + 1)])\n",
    "barycentre_y = quicksum([i*Poids[Passengers[k]['Type']]*occupied_seat[(i,j,k)] for i in range(1, Nb_rows + 1) for j in range(1, Nb_rows2 + 1) for k in range(1, Nb_passengers + 1)])\n",
    "total_poids = quicksum([Poids[Passengers[k]['Type']] for k in range(1, Nb_passengers + 1)])\n",
    "\n",
    "c4=m.addConstr(barycentre_x >= 3*total_poids , name='c4')\n",
    "c5=m.addConstr(barycentre_x <= 5*total_poids , name='c5')\n",
    "c6=m.addConstr(barycentre_y <= int(Nb_rows/2 + 3)*total_poids , name='c6')\n",
    "c7=m.addConstr(barycentre_y >= int(Nb_rows//2 - 1)*total_poids , name='c7')"
   ]
  },
  {
   "cell_type": "code",
   "execution_count": 618,
   "metadata": {},
   "outputs": [],
   "source": [
    "# La colonne 4 qui définit le couloir ne peut pas avoir un siège pour un passager\n",
    "\n",
    "c8={k :m.addConstr(occupied_seat[(i, 4, k)] == 0, name = f'c8{(k)}') for i in range(1, Nb_rows + 1) for k in range(1, Nb_passengers + 1)} "
   ]
  },
  {
   "cell_type": "code",
   "execution_count": 619,
   "metadata": {},
   "outputs": [],
   "source": [
    "# Ajout de la cabine \"Business Class\" et affectation des \"Passagers Business\" dans cette cabine\n",
    "\n",
    "# Un passager business ne peut pas être affecté dans la colonne 2 ou 6\n",
    "business_class = {(i,k): m.addConstr(occupied_seat[(i,2,k)] + occupied_seat[(i,6,k)] == 0, name=f'bs{k}') for i in range(1, Nb_rows + 1) for k in range(1,Nb_passengers + 1) if Passengers[k][\"Classe\"] == \"J\"}\n",
    "\n",
    "# Un passager business doit être dans la cabine business\n",
    "business_passengers = {k : m.addConstr(quicksum([i*occupied_seat[(i,j,k)] for i in range(1, Nb_rows + 1) for j in range(1, Nb_rows2 + 1)]) <= Rangées_Business, name = f'pb_{k}') for k in range(1,Nb_passengers + 1) if Passengers[k]['Classe'] == 'J'}\n",
    "\n",
    "# Un passager eco doit être dans la cabine eco\n",
    "simple_passengers = {k : m.addConstr(quicksum([i*occupied_seat[(i,j,k)] for i in range(1, Nb_rows + 1) for j in range(1, Nb_rows2 + 1)]) >= Rangées_Business + 1, name = f'pb_{k}') for k in range(1,Nb_passengers + 1) if Passengers[k]['Classe'] == 'Y' and Nb_business_passengers >=1 }"
   ]
  },
  {
   "cell_type": "code",
   "execution_count": 620,
   "metadata": {},
   "outputs": [],
   "source": [
    "# Les enfants de peuvent pas être à côté des issues de secours\n",
    "\n",
    "# Contrainte pour le siège 11A\n",
    "A11 = {k: m.addConstr(occupied_seat[(11,1,k)] == 0, name=f'11A{k}') for k in range(1,Nb_passengers + 1) if Passengers[k]['Type'] == 'Enfant'}\n",
    "\n",
    "# Contrainte pour le siège 12A\n",
    "A12 = {k: m.addConstr(occupied_seat[(12,1,k)] == 0, name=f'12A{k}') for k in range(1,Nb_passengers + 1) if Passengers[k]['Type'] == 'Enfant'}\n",
    "\n",
    "# Contrainte pour le siège 11F\n",
    "F11 = {k: m.addConstr(occupied_seat[(11,7,k)] == 0, name=f'11F{k}') for k in range(1,Nb_passengers + 1) if Passengers[k]['Type'] == 'Enfant'}\n",
    "\n",
    "# Contrainte pour le siège 12F\n",
    "F12 = {k: m.addConstr(occupied_seat[(12,7,k)] == 0, name=f'12F{k}') for k in range(1,Nb_passengers + 1) if Passengers[k]['Type'] == 'Enfant'}"
   ]
  },
  {
   "cell_type": "code",
   "execution_count": 621,
   "metadata": {},
   "outputs": [],
   "source": [
    "# Placement spécial des passagers en chaise roulante (On considère que tout les passagers en chaise roulante ne sont pas en cabine business)\n",
    "\n",
    "# On place les passagers en chaise roulante dans les rangées 3 et 5 pour bloquer le carré à côté d'eux en côté allée\n",
    "c9_1 = {k_WCHR: m.addConstr(quicksum([occupied_seat[(i,3,k_WCHR)] + occupied_seat[(i,5,k_WCHR)] for i in range(1, Nb_rows + 1)]) == 1, name = f'c9_1{k_WCHR}') for k_WCHR in range(1,Nb_passengers + 1) if Passengers[k_WCHR]['Type'] == 'WCHR'}\n",
    "\n",
    "# Les passagers en chaise roulante ne peuvent pas être placés dans la première ligne dans la cabine économique\n",
    "c9_2 = {k_WCHR: m.addConstr(quicksum([i*(occupied_seat[(i,3,k_WCHR)] + occupied_seat[(i,5,k_WCHR)]) for i in range(1, Nb_rows + 1)]) >= (Nb_business_passengers >=1)*(Nb_business_passengers//4 + 3) + (Nb_business_passengers == 0) * 2, name = f'c9_2{k_WCHR}') for k_WCHR in range(1,Nb_passengers + 1) if Passengers[k_WCHR]['Type'] == 'WCHR'}\n",
    "\n",
    "# On bloque le carré à côté des passagers en chaise roulante selon leur rangée (à droite si j = 5 et à gauche si j = 3)\n",
    "c9_3= {(i,j,k_WCHR): m.addConstr(quicksum([int((j == 5)) * (occupied_seat[i,j+1,k] + occupied_seat[i-1,j+1,k]) + int((j == 3)) * (occupied_seat[i,j-1,k] + occupied_seat[i-1,j-1,k]) + occupied_seat[i-1,j,k] for k in range(1, Nb_passengers + 1) if k != k_WCHR]) <= 3 * (1 - occupied_seat[i,j,k_WCHR]), name = f'c9_3{(i,j,k_WCHR)}') for k_WCHR in range(1, Nb_passengers + 1) for i in range(2, Nb_rows + 1) for j in [3,5] if Passengers[k_WCHR]['Type'] == 'WCHR'}"
   ]
  },
  {
   "cell_type": "code",
   "execution_count": 622,
   "metadata": {},
   "outputs": [],
   "source": [
    "# Placement spécial des passagers en civière (On considère que tout les passagers en civière ne sont pas en cabine business)\n",
    "\n",
    "# On place les passagers en civière roulante dans les rangées 1 et 4 pour bloquer le carré à côté d'eux en côté allée\n",
    "c10_1 = {k_WCHB: m.addConstr(quicksum([occupied_seat[(i,1,k_WCHB)] + occupied_seat[(i,5,k_WCHB)] for i in range(1, Nb_rows + 1)]) == 1, name = f'c10_1{k_WCHB}') for k_WCHB in range(1,Nb_passengers + 1) if Passengers[k_WCHB]['Type'] == 'WCHB'}\n",
    "\n",
    "# Les passagers en civière ne peuvent pas être placés dans les 3 premières lignes dans la cabine économique\n",
    "c10_2 = {k_WCHB: m.addConstr(quicksum([i*(occupied_seat[(i,1,k_WCHB)] + occupied_seat[(i,5,k_WCHB)]) for i in range(1, Nb_rows + 1)]) >= (Nb_business_passengers >=1)*(Nb_business_passengers//4 + 5) + (Nb_business_passengers == 0) * 4, name = f'c9_2{k_WCHB}') for k_WCHB in range(1,Nb_passengers + 1) if Passengers[k_WCHB]['Type'] == 'WCHB'}\n",
    "\n",
    "# On bloque la rangée du passager en civière et les 3 rangées devant lui\n",
    "c10_3= {(i,j,k_WCHB): m.addConstr(quicksum([int((j == 1)) * (occupied_seat[(i,j+1,k)] + occupied_seat[(i,j+2,k)] + occupied_seat[(i-1,j+1,k)] + occupied_seat[(i-1,j+2,k)] + occupied_seat[(i-2,j+1,k)] + occupied_seat[(i-2,j+2,k)] + occupied_seat[(i-3,j+1,k)] + occupied_seat[(i-3,j+2,k)]) + int((j == 5)) * (occupied_seat[(i,j+1,k)] + occupied_seat[(i,j+2,k)] + occupied_seat[(i-1,j+1,k)] + occupied_seat[(i-1,j+2,k)] + occupied_seat[(i-2,j+1,k)] + occupied_seat[(i-2,j+2,k)] + occupied_seat[(i-3,j+1,k)] + occupied_seat[(i-3,j+2,k)]) + occupied_seat[(i-1,j,k)] + occupied_seat[(i-2,j,k)] + occupied_seat[(i-3,j,k)] for k in range(1, Nb_passengers + 1) if k != k_WCHB]) <= 11 * (1 - occupied_seat[(i,j,k_WCHB)]), name = f'c10_3{(i,j,k_WCHB)}') for k_WCHB in range(1, Nb_passengers + 1) for i in range(4, Nb_rows + 1) for j in [1,5] if Passengers[k_WCHB]['Type'] == 'WCHB'}\n",
    "\n"
   ]
  },
  {
   "attachments": {},
   "cell_type": "markdown",
   "metadata": {},
   "source": [
    "Définition de la fonction objectif"
   ]
  },
  {
   "attachments": {},
   "cell_type": "markdown",
   "metadata": {},
   "source": [
    "***Note_enfant***\n",
    "\n",
    "Dans la cabine eco, si le nombre d'enfants est inféreur à 1.25 fois le nombre d'adultes, on considère le placement non isolé des enfants comme contrainte. Chaque enfant doit donc absolument être côté d'un adulte.\n",
    "\n",
    "Par contre, si le nombre d'enfants est supérieur ou égal à 1.25 fois le nombre d'adultes, il est difficile de satisfaire cette contrainte. On cherchera donc à minimiser le nombre d'enfants qui sont isolés, tout en maximisant le placement en groupe des enfants d'un même groupe.\n",
    "\n",
    "Dans la cabine Business, si le nombre d'enfants est inférieur ou égal à 0.75 le nombre d'adultes (vu que contrairement à la cabine eco, on ne peut pas avoir ici un adulte à côté de 2 enfants à la fois), on considère que le placement non isolé des enfants comme contrainte forte. Chaque enfant doit donc absolument être côté d'un adulte.\n",
    "\n",
    "Sinon, il y aura beaucoup d'enfants, et on supposera qu'ils seront bien pris en charge par l'équipage de l'avion (vu qu'ils bénéficient du privilège Business)"
   ]
  },
  {
   "cell_type": "code",
   "execution_count": 623,
   "metadata": {},
   "outputs": [],
   "source": [
    "# Définition de la note enfant\n",
    "\n",
    "Note_enfant = 0\n",
    "\n",
    "# Définition de la note enfant si Enfants_Y >= 1.25 * Adultes_Y\n",
    "if Enfants_Y >= 1.25 * Adultes_Y :\n",
    "\n",
    "    z = {(i,j,k) : m.addVar(vtype = GRB.BINARY, name=f'z_{i}{j}{k}')  for i in range(1,Nb_rows+1) for j in range(1,Nb_rows2+1) for k in range(1, Nb_passengers + 1) if Passengers[k]['Type']=='Enfant' }\n",
    "    for i in range(1,Nb_rows+1):\n",
    "        for k in range(1,Nb_passengers+1):\n",
    "            for j in range(2,Nb_rows2):\n",
    "                if Passengers[k]['Type']=='Enfant' and Passengers[k]['Classe'] == 'Y':\n",
    "                    m.addConstr((1-occupied_seat[i,j,k] + z[i,j,k] >= 0.25*(quicksum(occupied_seat[i,j-1,k1] + occupied_seat[i,j+1,k1] for k1 in range(1,Nb_passengers+1) if Passengers[k1]['Type']=='Homme' or Passengers[k1]['Type']== 'Femme'))))\n",
    "                    m.addConstr((z[i,j,k] <= quicksum(occupied_seat[i,j-1,k1] + occupied_seat[i,j+1,k1] for k1 in range(1,Nb_passengers+1) if Passengers[k1]['Type']=='Homme' or Passengers[k1]['Type']== 'Femme')))\n",
    "                    m.addConstr((z[i,j,k] <= occupied_seat[i,j,k]))\n",
    "\n",
    "    for i in range(1,Nb_rows+1):\n",
    "        for k in range(1,Nb_passengers+1):\n",
    "            if Passengers[k]['Type']=='Enfant' and Passengers[k]['Classe'] == 'Y':\n",
    "            \n",
    "                m.addConstr((1-occupied_seat[i,1,k] + z[i,1,k] >= 0.25*(quicksum(occupied_seat[i,2,k1] for k1 in range(1,Nb_passengers+1) if Passengers[k1]['Type']=='Homme' or Passengers[k1]['Type']== 'Femme'))))\n",
    "                m.addConstr((z[i,1,k] <= quicksum(occupied_seat[i,2,k1] for k1 in range(1,Nb_passengers+1) if Passengers[k1]['Type']=='Homme' or Passengers[k1]['Type']== 'Femme')))\n",
    "                m.addConstr((z[i,1,k] <= occupied_seat[i,1,k]))\n",
    "\n",
    "    for i in range(1,Nb_rows+1):\n",
    "        for k in range(1,Nb_passengers+1):\n",
    "            if Passengers[k]['Type']=='Enfant' and Passengers[k]['Classe'] == 'Y':\n",
    "\n",
    "                m.addConstr((1-occupied_seat[i,Nb_rows2,k] + z[i,Nb_rows2,k] >= 0.25*(quicksum(occupied_seat[i,Nb_rows2-1,k1] for k1 in range(1,Nb_passengers+1) if Passengers[k1]['Type']=='Homme' or Passengers[k1]['Type']== 'Femme'))))\n",
    "                m.addConstr((z[i,Nb_rows2,k] <= quicksum(occupied_seat[i,Nb_rows2-1,k1] for k1 in range(1,Nb_passengers+1) if Passengers[k1]['Type']=='Homme' or Passengers[k1]['Type']== 'Femme')))\n",
    "                m.addConstr((z[i,Nb_rows2,k] <= occupied_seat[i,Nb_rows2,k]))\n",
    "\n",
    "              \n",
    "\n",
    "    Note_enfant = quicksum(z[(i,j,k)] for i in range(1,Nb_rows+1) for j in range(1,Nb_rows2+1) for k in range(1,Nb_passengers+1) if Passengers[k]['Type']=='Enfant')\n",
    "\n",
    "# Définition de la contrainte des enfants non isolés pour la cabine Eco\n",
    "\n",
    "else : \n",
    "    for i in range(1,Nb_rows+1):\n",
    "        for k in range(1,Nb_passengers+1):\n",
    "           for j in range(2,Nb_rows2):\n",
    "                if Passengers[k]['Type']=='Enfant' and Passengers[k]['Classe'] == 'Y':\n",
    "                    m.addConstr(occupied_seat[i,j,k] <= quicksum(occupied_seat[i,j-1,k1] + occupied_seat[i,j+1,k1] for k1 in range(1,Nb_passengers+1) if Passengers[k1]['Type']=='Homme' or Passengers[k1]['Type']== 'Femme'))\n",
    "\n",
    "    for i in range(1,Nb_rows+1):\n",
    "        for k in range(1,Nb_passengers+1):\n",
    "            if Passengers[k]['Type'] == 'Enfant' and Passengers[k]['Classe'] == 'Y':\n",
    "                m.addConstr((occupied_seat[i,1,k] <= quicksum(occupied_seat[i,2,k1] for k1 in range(1,Nb_passengers+1) if Passengers[k1]['Type']=='Homme' or Passengers[k1]['Type']== 'Femme')))\n",
    "                m.addConstr((occupied_seat[i,Nb_rows2,k] <=quicksum(occupied_seat[i,Nb_rows2-1,k1] for k1 in range(1,Nb_passengers+1) if Passengers[k1]['Type']=='Homme' or Passengers[k1]['Type']== 'Femme')))\n",
    "\n",
    "\n",
    "# Définition de la contrainte des enfants non isolés pour la cabine Business\n",
    "\n",
    "if Enfants_J <= .75 * Adultes_J :\n",
    "    for i in range(1,Nb_rows+1):\n",
    "        for k in range(1,Nb_passengers+1):\n",
    "            if Passengers[k]['Type'] == 'Enfant' and Passengers[k]['Classe'] == 'J':\n",
    "                m.addConstr((occupied_seat[i,1,k] <= quicksum(occupied_seat[i,3,k1] for k1 in range(1,Nb_passengers+1) if Passengers[k1]['Type']=='Homme' or Passengers[k1]['Type']== 'Femme')))\n",
    "                m.addConstr((occupied_seat[i,3,k] <=quicksum(occupied_seat[i,1,k1] for k1 in range(1,Nb_passengers+1) if Passengers[k1]['Type']=='Homme' or Passengers[k1]['Type']== 'Femme')))\n",
    "                m.addConstr((occupied_seat[i,5,k] <= quicksum(occupied_seat[i,7,k1] for k1 in range(1,Nb_passengers+1) if Passengers[k1]['Type']=='Homme' or Passengers[k1]['Type']== 'Femme')))\n",
    "                m.addConstr((occupied_seat[i,7,k] <=quicksum(occupied_seat[i,5,k1] for k1 in range(1,Nb_passengers+1) if Passengers[k1]['Type']=='Homme' or Passengers[k1]['Type']== 'Femme')))"
   ]
  },
  {
   "cell_type": "code",
   "execution_count": 624,
   "metadata": {},
   "outputs": [],
   "source": [
    "# Définition de la note du transit\n",
    "\n",
    "Note_transit = quicksum([quicksum([i*occupied_seat[(i,j,k)] for i in range(1, Nb_rows + 1) for j in range(1, Nb_rows2 + 1)])/Passengers[k][\"TransitTime\"] for k in range(1, Nb_passengers +1) if Passengers[k]['TransitTime'] != 0])\n",
    "\n",
    "# Définition de la note de la distance\n",
    "\n",
    "Note_dist = quicksum([10*(X_max[g] - X_min[g]) + Y_max[g] - Y_min[g] for g in range(1,Nb_groups + 1) if len(Groupes[g]) >= 2])\n"
   ]
  },
  {
   "cell_type": "code",
   "execution_count": 625,
   "metadata": {},
   "outputs": [],
   "source": [
    "# Définition de la fonction objectif\n",
    "\n",
    "m.setObjective(100*Note_dist + Note_transit - 20*Note_enfant, GRB.MINIMIZE) \n"
   ]
  },
  {
   "cell_type": "code",
   "execution_count": 626,
   "metadata": {},
   "outputs": [],
   "source": [
    "m.params.OutputFlag = 0\n",
    "\n",
    "# -- Mise à jour du modèle  --\n",
    "m.update()\n",
    "\n",
    "m.setParam('TimeLimit', 3600) # Le TimeLimit pourra être plus petit si l'instance est moins compliquée (et plus grand si l'instance est plus compliquée)\n",
    "\n",
    "# -- Affichage en mode texte du PL --\n",
    "m.display()\n"
   ]
  },
  {
   "cell_type": "code",
   "execution_count": 627,
   "metadata": {},
   "outputs": [
    {
     "data": {
      "text/plain": [
       "9"
      ]
     },
     "execution_count": 627,
     "metadata": {},
     "output_type": "execute_result"
    }
   ],
   "source": [
    "\n",
    "m.optimize()\n",
    "m.Status"
   ]
  },
  {
   "cell_type": "markdown",
   "metadata": {},
   "source": [
    "Affichage des résultats"
   ]
  },
  {
   "cell_type": "code",
   "execution_count": 628,
   "metadata": {},
   "outputs": [
    {
     "name": "stdout",
     "output_type": "stream",
     "text": [
      "+--------+--------------------------+-------------------------+-------------------------+---------+---------------------------+---------------------------+---------------------------+\n",
      "|  Seat  |            A             |            B            |            C            | couloir |             D             |             E             |             F             |\n",
      "+--------+--------------------------+-------------------------+-------------------------+---------+---------------------------+---------------------------+---------------------------+\n",
      "| Row 1  | (100, 56, 195, Homme, J) |                         |  (69, 36, 55, Femme, J) |         |   (70, 36, 55, Homme, J)  |                           |    (1, 1, 55, Femme, J)   |\n",
      "| Row 2  |  (99, 55, 0, Homme, J)   |                         |  (5, 4, 195, Homme, J)  |         |   (4, 4, 195, Femme, J)   |                           |   (65, 32, 0, Femme, J)   |\n",
      "| Row 3  |                          |                         |  (133, 76, 0, Femme, J) |         |   (134, 76, 0, Homme, J)  |                           |   (98, 54, 0, Homme, J)   |\n",
      "| Row 4  | (103, 57, 0, Enfant, J)  |                         |  (101, 57, 0, Femme, J) |         |  (104, 57, 0, Enfant, J)  |                           |   (102, 57, 0, Homme, J)  |\n",
      "| Row 5  |  (64, 31, 0, Femme, J)   |                         |  (37, 17, 0, Femme, J)  |         |   (38, 17, 0, Homme, J)   |                           |   (63, 30, 0, Homme, J)   |\n",
      "| Row 6  |                          |                         |  (121, 69, 0, Homme, J) |         |   (71, 37, 0, Femme, J)   |                           |   (120, 68, 0, Homme, J)  |\n",
      "| Row 7  |                          |                         |  (96, 52, 0, Femme, J)  |         |   (68, 35, 0, Femme, J)   |                           |   (123, 71, 0, Femme, J)  |\n",
      "| Row 8  | (124, 72, 55, Homme, Y)  |  (81, 42, 55, Homme, Y) |  (80, 42, 55, Femme, Y) |         |  (66, 33, 55, Enfant, Y)  |  (141, 81, 55, Homme, Y)  |  (140, 81, 55, Femme, Y)  |\n",
      "| Row 9  | (112, 64, 55, Homme, Y)  |  (32, 14, 55, Femme, Y) |  (34, 14, 55, Homme, Y) |         |   (33, 14, 55, Femme, Y)  |   (31, 14, 55, Femme, Y)  |   (30, 14, 55, Femme, Y)  |\n",
      "| Row 10 |  (82, 43, 75, Homme, Y)  |  (41, 18, 75, Femme, Y) |  (42, 18, 75, Femme, Y) |         |   (43, 18, 75, Femme, Y)  |   (39, 18, 75, Femme, Y)  |   (40, 18, 75, Femme, Y)  |\n",
      "| Row 11 | (125, 73, 75, Femme, Y)  | (126, 73, 75, Homme, Y) |   (3, 3, 75, Femme, Y)  |         |   (45, 20, 75, Femme, Y)  |   (46, 20, 75, Femme, Y)  |  (111, 63, 75, Homme, Y)  |\n",
      "| Row 12 |  (54, 24, 75, Femme, Y)  |  (53, 24, 75, Femme, Y) |  (55, 24, 75, Femme, Y) |         |   (52, 24, 75, Femme, Y)  |  (139, 80, 75, Homme, Y)  |  (44, 19, 195, Femme, Y)  |\n",
      "| Row 13 |                          |                         |                         |         | (129, 74, 195, Enfant, Y) |  (127, 74, 195, Homme, Y) | (128, 74, 195, Enfant, Y) |\n",
      "| Row 14 |                          |                         |                         |         |  (154, 87, 195, Femme, Y) | (119, 67, 195, Enfant, Y) |  (118, 67, 195, Homme, Y) |\n",
      "| Row 15 |                          |                         |                         |         |  (131, 75, 0, Enfant, Y)  |   (130, 75, 0, Homme, Y)  |  (132, 75, 0, Enfant, Y)  |\n",
      "| Row 16 |  (29, 13, 75, WCHB, Y)   |                         |                         |         |   (28, 13, 75, Femme, Y)  |   (27, 13, 75, Femme, Y)  |   (91, 48, 0, Homme, Y)   |\n",
      "| Row 17 |  (84, 45, 0, Homme, Y)   |                         |  (36, 16, 55, WCHR, Y)  |         |   (142, 82, 0, Homme, Y)  |  (144, 82, 0, Enfant, Y)  |   (143, 82, 0, Homme, Y)  |\n",
      "| Row 18 |                          |                         |                         |         |   (135, 77, 0, Homme, Y)  |   (78, 41, 0, Homme, Y)   |   (79, 41, 0, Homme, Y)   |\n",
      "| Row 19 |                          |                         |                         |         |   (21, 11, 0, Homme, Y)   |   (20, 11, 0, Femme, Y)   |   (77, 40, 0, Homme, Y)   |\n",
      "| Row 20 |                          |                         |                         |         |  (138, 79, 540, Homme, Y) |  (137, 79, 540, Homme, Y) |   (90, 47, 0, Femme, Y)   |\n",
      "| Row 21 |  (58, 26, 55, WCHB, Y)   |                         |                         |         |  (57, 26, 55, Enfant, Y)  |   (19, 10, 0, Femme, Y)   |   (61, 28, 0, Enfant, Y)  |\n",
      "| Row 22 |  (94, 51, 0, Homme, Y)   |                         |   (95, 51, 0, WCHR, Y)  |         |                           |                           |   (105, 58, 0, Homme, Y)  |\n",
      "| Row 23 |  (110, 62, 0, Femme, Y)  |   (8, 6, 0, Femme, Y)   |   (7, 6, 0, Femme, Y)   |         |     (9, 7, 0, WCHR, Y)    |                           |   (106, 59, 0, Homme, Y)  |\n",
      "| Row 24 |  (122, 70, 0, Homme, Y)  |   (13, 8, 0, Homme, Y)  |   (11, 8, 0, Homme, Y)  |         |    (12, 8, 0, Homme, Y)   |    (10, 8, 0, Femme, Y)   |    (14, 8, 0, Homme, Y)   |\n",
      "| Row 25 | (156, 88, 0, Enfant, Y)  |  (155, 88, 0, Homme, Y) | (157, 88, 0, Enfant, Y) |         |   (62, 29, 0, Enfant, Y)  |   (107, 60, 0, Homme, Y)  |   (108, 60, 0, Homme, Y)  |\n",
      "| Row 26 |  (48, 22, 0, Femme, Y)   |  (148, 84, 0, Homme, Y) |  (149, 84, 0, Homme, Y) |         |   (74, 38, 0, Homme, Y)   |   (73, 38, 0, Femme, Y)   |   (72, 38, 0, Femme, Y)   |\n",
      "| Row 27 |  (150, 85, 0, Homme, Y)  |  (151, 85, 0, Homme, Y) |  (116, 65, 0, Homme, Y) |         |   (114, 65, 0, Femme, Y)  |   (113, 65, 0, Femme, Y)  |   (115, 65, 0, Homme, Y)  |\n",
      "| Row 28 |   (2, 2, 0, Enfant, Y)   |  (26, 12, 0, Femme, Y)  |  (23, 12, 0, Femme, Y)  |         |   (25, 12, 0, Femme, Y)   |   (22, 12, 0, Femme, Y)   |   (24, 12, 0, Femme, Y)   |\n",
      "| Row 29 |   (6, 5, 0, Femme, Y)    |                         |                         |         |                           |                           |   (136, 78, 0, Homme, Y)  |\n",
      "| Row 30 |  (109, 61, 0, Homme, Y)  |                         |   (47, 21, 0, WCHR, Y)  |         |   (153, 86, 0, WCHR, Y)   |                           |   (152, 86, 0, Femme, Y)  |\n",
      "| Row 31 |  (145, 83, 0, Homme, Y)  |  (146, 83, 0, Homme, Y) | (147, 83, 0, Enfant, Y) |         |  (159, 89, 0, Enfant, Y)  |   (158, 89, 0, Homme, Y)  |  (160, 89, 0, Enfant, Y)  |\n",
      "| Row 32 |  (92, 49, 0, Homme, Y)   |   (17, 9, 0, Femme, Y)  |   (16, 9, 0, Femme, Y)  |         |    (15, 9, 0, Femme, Y)   |    (18, 9, 0, Femme, Y)   |   (83, 44, 0, Homme, Y)   |\n",
      "| Row 33 |  (35, 15, 0, Femme, Y)   |  (60, 27, 0, Enfant, Y) |  (59, 27, 0, Homme, Y)  |         |   (49, 23, 0, Femme, Y)   |   (51, 23, 0, Enfant, Y)  |   (50, 23, 0, Homme, Y)   |\n",
      "| Row 34 |  (56, 25, 0, Femme, Y)   |  (97, 53, 0, Femme, Y)  |  (117, 66, 0, Femme, Y) |         |   (67, 34, 0, Enfant, Y)  |   (76, 39, 0, Homme, Y)   |   (75, 39, 0, Femme, Y)   |\n",
      "| Row 35 |  (88, 46, 0, Femme, Y)   |  (89, 46, 0, Femme, Y)  |  (87, 46, 0, Femme, Y)  |         |   (86, 46, 0, Femme, Y)   |   (85, 46, 0, Femme, Y)   |   (93, 50, 0, Homme, Y)   |\n",
      "+--------+--------------------------+-------------------------+-------------------------+---------+---------------------------+---------------------------+---------------------------+\n"
     ]
    }
   ],
   "source": [
    "# Affichage des passagers, leur groupe et leur temps de transit en minutes dans l'avion\n",
    "Seats = [\"A\",\"B\",\"C\",\"couloir\",\"D\",\"E\",\"F\"]\n",
    "def print_passenger_placement(occupied_seat, nb_rows, nb_rows2, nb_passengers, Passengers):\n",
    "    table = PrettyTable()\n",
    "    table.field_names = [\"Seat\"] + [f\"{Seats[i]}\" for i in range(nb_rows2)]\n",
    "\n",
    "    for i in range(1, nb_rows + 1):\n",
    "        row = [f\"Row {i}\"]\n",
    "        for j in range(1, nb_rows2 + 1):\n",
    "            seat_info = []\n",
    "            for k in range(1, nb_passengers + 1):\n",
    "                if occupied_seat[(i, j, k)].x > 0.5:\n",
    "                    seat_info.append(f\"({k}, {Passengers[k]['Numero de groupe']}, {Passengers[k]['TransitTime']}, {Passengers[k]['Type']}, {Passengers[k]['Classe']})\")\n",
    "            if seat_info:\n",
    "                row.append(\"\\n\".join(seat_info))\n",
    "            else:\n",
    "                row.append(\"\")\n",
    "        table.add_row(row)\n",
    "\n",
    "    print(table)\n",
    "print_passenger_placement(occupied_seat, Nb_rows, Nb_rows2, Nb_passengers, Passengers)"
   ]
  },
  {
   "cell_type": "code",
   "execution_count": 644,
   "metadata": {},
   "outputs": [
    {
     "name": "stdout",
     "output_type": "stream",
     "text": [
      "{1: (1, 7), 2: (28, 1), 3: (11, 3), 4: (2, 5), 5: (2, 3), 6: (29, 1), 7: (23, 3), 8: (23, 2), 9: (23, 5), 10: (24, 6), 11: (24, 3), 12: (24, 5), 13: (24, 2), 14: (24, 7), 15: (32, 5), 16: (32, 3), 17: (32, 2), 18: (32, 6), 19: (21, 6), 20: (19, 6), 21: (19, 5), 22: (28, 6), 23: (28, 3), 24: (28, 7), 25: (28, 5), 26: (28, 2), 27: (16, 6), 28: (16, 5), 29: (16, 1), 30: (9, 7), 31: (9, 6), 32: (9, 2), 33: (9, 5), 34: (9, 3), 35: (33, 1), 36: (17, 3), 37: (5, 3), 38: (5, 5), 39: (10, 6), 40: (10, 7), 41: (10, 2), 42: (10, 3), 43: (10, 5), 44: (12, 7), 45: (11, 5), 46: (11, 6), 47: (30, 3), 48: (26, 1), 49: (33, 5), 50: (33, 7), 51: (33, 6), 52: (12, 5), 53: (12, 2), 54: (12, 1), 55: (12, 3), 56: (34, 1), 57: (21, 5), 58: (21, 1), 59: (33, 3), 60: (33, 2), 61: (21, 7), 62: (25, 5), 63: (5, 7), 64: (5, 1), 65: (2, 7), 66: (8, 5), 67: (34, 5), 68: (7, 5), 69: (1, 3), 70: (1, 5), 71: (6, 5), 72: (26, 7), 73: (26, 6), 74: (26, 5), 75: (34, 7), 76: (34, 6), 77: (19, 7), 78: (18, 6), 79: (18, 7), 80: (8, 3), 81: (8, 2), 82: (10, 1), 83: (32, 7), 84: (17, 1), 85: (35, 6), 86: (35, 5), 87: (35, 3), 88: (35, 1), 89: (35, 2), 90: (20, 7), 91: (16, 7), 92: (32, 1), 93: (35, 7), 94: (22, 1), 95: (22, 3), 96: (7, 3), 97: (34, 2), 98: (3, 7), 99: (2, 1), 100: (1, 1), 101: (4, 3), 102: (4, 7), 103: (4, 1), 104: (4, 5), 105: (22, 7), 106: (23, 7), 107: (25, 6), 108: (25, 7), 109: (30, 1), 110: (23, 1), 111: (11, 7), 112: (9, 1), 113: (27, 6), 114: (27, 5), 115: (27, 7), 116: (27, 3), 117: (34, 3), 118: (14, 7), 119: (14, 6), 120: (6, 7), 121: (6, 3), 122: (24, 1), 123: (7, 7), 124: (8, 1), 125: (11, 1), 126: (11, 2), 127: (13, 6), 128: (13, 7), 129: (13, 5), 130: (15, 6), 131: (15, 5), 132: (15, 7), 133: (3, 3), 134: (3, 5), 135: (18, 5), 136: (29, 7), 137: (20, 6), 138: (20, 5), 139: (12, 6), 140: (8, 7), 141: (8, 6), 142: (17, 5), 143: (17, 7), 144: (17, 6), 145: (31, 1), 146: (31, 2), 147: (31, 3), 148: (26, 2), 149: (26, 3), 150: (27, 1), 151: (27, 2), 152: (30, 7), 153: (30, 5), 154: (14, 5), 155: (25, 2), 156: (25, 1), 157: (25, 3), 158: (31, 6), 159: (31, 5), 160: (31, 7)}\n"
     ]
    }
   ],
   "source": [
    "D={}\n",
    "for k in range(1,Nb_passengers+1):\n",
    "    D[k]=(sum(i*round(occupied_seat[(i, j, k)].x) for i in range(1, Nb_rows + 1) for j in range(1, Nb_rows2 + 1)) ,sum(j*round(occupied_seat[(i, j, k)].x) for i in range(1, Nb_rows + 1) for j in range(1, Nb_rows2 + 1)))\n",
    "print(D)"
   ]
  },
  {
   "cell_type": "code",
   "execution_count": 645,
   "metadata": {},
   "outputs": [
    {
     "name": "stdout",
     "output_type": "stream",
     "text": [
      "[[100.   0.  69.   0.  70.   0.   1.]\n",
      " [ 99.   0.   5.   0.   4.   0.  65.]\n",
      " [  0.   0. 133.   0. 134.   0.  98.]\n",
      " [103.   0. 101.   0. 104.   0. 102.]\n",
      " [ 64.   0.  37.   0.  38.   0.  63.]\n",
      " [  0.   0. 121.   0.  71.   0. 120.]\n",
      " [  0.   0.  96.   0.  68.   0. 123.]\n",
      " [124.  81.  80.   0.  66. 141. 140.]\n",
      " [112.  32.  34.   0.  33.  31.  30.]\n",
      " [ 82.  41.  42.   0.  43.  39.  40.]\n",
      " [125. 126.   3.   0.  45.  46. 111.]\n",
      " [ 54.  53.  55.   0.  52. 139.  44.]\n",
      " [  0.   0.   0.   0. 129. 127. 128.]\n",
      " [  0.   0.   0.   0. 154. 119. 118.]\n",
      " [  0.   0.   0.   0. 131. 130. 132.]\n",
      " [ 29.   0.   0.   0.  28.  27.  91.]\n",
      " [ 84.   0.  36.   0. 142. 144. 143.]\n",
      " [  0.   0.   0.   0. 135.  78.  79.]\n",
      " [  0.   0.   0.   0.  21.  20.  77.]\n",
      " [  0.   0.   0.   0. 138. 137.  90.]\n",
      " [ 58.   0.   0.   0.  57.  19.  61.]\n",
      " [ 94.   0.  95.   0.   0.   0. 105.]\n",
      " [110.   8.   7.   0.   9.   0. 106.]\n",
      " [122.  13.  11.   0.  12.  10.  14.]\n",
      " [156. 155. 157.   0.  62. 107. 108.]\n",
      " [ 48. 148. 149.   0.  74.  73.  72.]\n",
      " [150. 151. 116.   0. 114. 113. 115.]\n",
      " [  2.  26.  23.   0.  25.  22.  24.]\n",
      " [  6.   0.   0.   0.   0.   0. 136.]\n",
      " [109.   0.  47.   0. 153.   0. 152.]\n",
      " [145. 146. 147.   0. 159. 158. 160.]\n",
      " [ 92.  17.  16.   0.  15.  18.  83.]\n",
      " [ 35.  60.  59.   0.  49.  51.  50.]\n",
      " [ 56.  97. 117.   0.  67.  76.  75.]\n",
      " [ 88.  89.  87.   0.  86.  85.  93.]]\n"
     ]
    }
   ],
   "source": [
    "### Affichage des passagers\n",
    "A = np.zeros((Nb_rows, Nb_rows2))\n",
    "for k in range(1, Nb_passengers+1):\n",
    "    i , j = D[k]\n",
    "    A[int(i)-1,int(j)-1] = k\n",
    "\n",
    "\n",
    "print(A)"
   ]
  },
  {
   "attachments": {},
   "cell_type": "markdown",
   "metadata": {},
   "source": [
    "Affichage des temps de transit des passagers dans l'avion"
   ]
  },
  {
   "cell_type": "code",
   "execution_count": 646,
   "metadata": {},
   "outputs": [
    {
     "name": "stdout",
     "output_type": "stream",
     "text": [
      "[[195.   0.  55.   0.  55.   0.  55.]\n",
      " [  0.   0. 195.   0. 195.   0.   0.]\n",
      " [  0.   0.   0.   0.   0.   0.   0.]\n",
      " [  0.   0.   0.   0.   0.   0.   0.]\n",
      " [  0.   0.   0.   0.   0.   0.   0.]\n",
      " [  0.   0.   0.   0.   0.   0.   0.]\n",
      " [  0.   0.   0.   0.   0.   0.   0.]\n",
      " [ 55.  55.  55.   0.  55.  55.  55.]\n",
      " [ 55.  55.  55.   0.  55.  55.  55.]\n",
      " [ 75.  75.  75.   0.  75.  75.  75.]\n",
      " [ 75.  75.  75.   0.  75.  75.  75.]\n",
      " [ 75.  75.  75.   0.  75.  75. 195.]\n",
      " [  0.   0.   0.   0. 195. 195. 195.]\n",
      " [  0.   0.   0.   0. 195. 195. 195.]\n",
      " [  0.   0.   0.   0.   0.   0.   0.]\n",
      " [ 75.   0.   0.   0.  75.  75.   0.]\n",
      " [  0.   0.  55.   0.   0.   0.   0.]\n",
      " [  0.   0.   0.   0.   0.   0.   0.]\n",
      " [  0.   0.   0.   0.   0.   0.   0.]\n",
      " [  0.   0.   0.   0. 540. 540.   0.]\n",
      " [ 55.   0.   0.   0.  55.   0.   0.]\n",
      " [  0.   0.   0.   0.   0.   0.   0.]\n",
      " [  0.   0.   0.   0.   0.   0.   0.]\n",
      " [  0.   0.   0.   0.   0.   0.   0.]\n",
      " [  0.   0.   0.   0.   0.   0.   0.]\n",
      " [  0.   0.   0.   0.   0.   0.   0.]\n",
      " [  0.   0.   0.   0.   0.   0.   0.]\n",
      " [  0.   0.   0.   0.   0.   0.   0.]\n",
      " [  0.   0.   0.   0.   0.   0.   0.]\n",
      " [  0.   0.   0.   0.   0.   0.   0.]\n",
      " [  0.   0.   0.   0.   0.   0.   0.]\n",
      " [  0.   0.   0.   0.   0.   0.   0.]\n",
      " [  0.   0.   0.   0.   0.   0.   0.]\n",
      " [  0.   0.   0.   0.   0.   0.   0.]\n",
      " [  0.   0.   0.   0.   0.   0.   0.]]\n"
     ]
    }
   ],
   "source": [
    "T = np.zeros((Nb_rows, Nb_rows2))\n",
    "for k in range(1, Nb_passengers+1):\n",
    "    i , j = D[k]\n",
    "    T[int(i)-1,int(j)-1] = Passengers[k]['TransitTime']\n",
    "\n",
    "\n",
    "print(T)\n"
   ]
  },
  {
   "cell_type": "code",
   "execution_count": 647,
   "metadata": {},
   "outputs": [],
   "source": [
    "# On vérifie que chaque siège contiene au plus un passager\n",
    "\n",
    "for i in range(1,Nb_passengers):\n",
    "    for j in range(i+1, Nb_passengers + 1):\n",
    "        if D[i]==D[j]:\n",
    "            print((i,j))"
   ]
  },
  {
   "attachments": {},
   "cell_type": "markdown",
   "metadata": {},
   "source": [
    "Affichage du nombre du groupe des passagers dans l'avion"
   ]
  },
  {
   "cell_type": "code",
   "execution_count": 648,
   "metadata": {},
   "outputs": [
    {
     "name": "stdout",
     "output_type": "stream",
     "text": [
      "[[56.  0. 36.  0. 36.  0.  1.]\n",
      " [55.  0.  4.  0.  4.  0. 32.]\n",
      " [ 0.  0. 76.  0. 76.  0. 54.]\n",
      " [57.  0. 57.  0. 57.  0. 57.]\n",
      " [31.  0. 17.  0. 17.  0. 30.]\n",
      " [ 0.  0. 69.  0. 37.  0. 68.]\n",
      " [ 0.  0. 52.  0. 35.  0. 71.]\n",
      " [72. 42. 42.  0. 33. 81. 81.]\n",
      " [64. 14. 14.  0. 14. 14. 14.]\n",
      " [43. 18. 18.  0. 18. 18. 18.]\n",
      " [73. 73.  3.  0. 20. 20. 63.]\n",
      " [24. 24. 24.  0. 24. 80. 19.]\n",
      " [ 0.  0.  0.  0. 74. 74. 74.]\n",
      " [ 0.  0.  0.  0. 87. 67. 67.]\n",
      " [ 0.  0.  0.  0. 75. 75. 75.]\n",
      " [13.  0.  0.  0. 13. 13. 48.]\n",
      " [45.  0. 16.  0. 82. 82. 82.]\n",
      " [ 0.  0.  0.  0. 77. 41. 41.]\n",
      " [ 0.  0.  0.  0. 11. 11. 40.]\n",
      " [ 0.  0.  0.  0. 79. 79. 47.]\n",
      " [26.  0.  0.  0. 26. 10. 28.]\n",
      " [51.  0. 51.  0.  0.  0. 58.]\n",
      " [62.  6.  6.  0.  7.  0. 59.]\n",
      " [70.  8.  8.  0.  8.  8.  8.]\n",
      " [88. 88. 88.  0. 29. 60. 60.]\n",
      " [22. 84. 84.  0. 38. 38. 38.]\n",
      " [85. 85. 65.  0. 65. 65. 65.]\n",
      " [ 2. 12. 12.  0. 12. 12. 12.]\n",
      " [ 5.  0.  0.  0.  0.  0. 78.]\n",
      " [61.  0. 21.  0. 86.  0. 86.]\n",
      " [83. 83. 83.  0. 89. 89. 89.]\n",
      " [49.  9.  9.  0.  9.  9. 44.]\n",
      " [15. 27. 27.  0. 23. 23. 23.]\n",
      " [25. 53. 66.  0. 34. 39. 39.]\n",
      " [46. 46. 46.  0. 46. 46. 50.]]\n"
     ]
    }
   ],
   "source": [
    "NG = np.zeros((Nb_rows, Nb_rows2))\n",
    "for k in range(1, Nb_passengers+1):\n",
    "    i , j = D[k]\n",
    "    NG[int(i)-1,int(j)-1] = Passengers[k]['Numero de groupe']\n",
    "\n",
    "\n",
    "print(NG)"
   ]
  },
  {
   "cell_type": "code",
   "execution_count": 649,
   "metadata": {},
   "outputs": [
    {
     "name": "stdout",
     "output_type": "stream",
     "text": [
      "All children are seated next to an adult.\n"
     ]
    }
   ],
   "source": [
    "B = {}\n",
    "\n",
    "for k in range(1, Nb_passengers+1):\n",
    "    i , j = D[k]\n",
    "    B[int(i),int(j)] = Passengers[k]['Type']\n",
    "\n",
    "for i in range(1,Nb_rows+1):\n",
    "    for j in range(1,Nb_rows2+1):\n",
    "        if (i,j) not in B:\n",
    "            B[(i,j)] = 'Vide'\n",
    "\n",
    "# create a dictionary to store the seat number of each child\n",
    "child_seats = {}\n",
    "seat_passengers=B\n",
    "# iterate over all passengers\n",
    "for k in range(1, Nb_passengers + 1):\n",
    "    \n",
    "    # check if the passenger is a child\n",
    "    if Passengers[k]['Type'] == 'Enfant':\n",
    "        \n",
    "        # get the row and column number of the child's seat\n",
    "        row_num = int(D[k][0])\n",
    "        col_num = int(D[k][1])\n",
    "        \n",
    "        # check if the child is seated next to an adult\n",
    "        adjacent_seat_found = False\n",
    "        if Passengers[k]['Classe'] == 'Y':\n",
    "        \n",
    "            # check the seat to the left of the child's seat\n",
    "            if col_num > 1 and seat_passengers[(row_num, col_num - 1)] in {'Homme', 'Femme'}:\n",
    "                adjacent_seat_found = True\n",
    "            \n",
    "            # check the seat to the right of the child's seat\n",
    "            elif col_num < Nb_rows2 and seat_passengers[(row_num, col_num + 1)] in {'Homme', 'Femme'}:\n",
    "                adjacent_seat_found = True\n",
    "        \n",
    "            \n",
    "            # if the child is in the first column, check the seat to the right of the child's seat\n",
    "            elif col_num == 1 and seat_passengers[(row_num, col_num + 1)] in {'Homme', 'Femme'}:\n",
    "                adjacent_seat_found = True\n",
    "            \n",
    "            \n",
    "            \n",
    "            # if the child is in the last column, check the seat to the left of the child's seat\n",
    "            elif col_num == Nb_rows2 and seat_passengers[(row_num, col_num - 1)] in {'Homme', 'Femme'}:\n",
    "                adjacent_seat_found =True\n",
    "\n",
    "        if Passengers[k]['Classe'] == 'J':\n",
    "\n",
    "            if col_num == 1 and seat_passengers[(row_num, col_num + 2)] in {'Homme', 'Femme'}:\n",
    "                adjacent_seat_found = True\n",
    "\n",
    "            if col_num == 3 and seat_passengers[(row_num, col_num - 2)] in {'Homme', 'Femme'}:\n",
    "                adjacent_seat_found = True\n",
    "\n",
    "            if col_num == 5 and seat_passengers[(row_num, col_num + 2)] in {'Homme', 'Femme'}:\n",
    "                adjacent_seat_found = True\n",
    "\n",
    "            if col_num == 7 and seat_passengers[(row_num, col_num - 2)] in {'Homme', 'Femme'}:\n",
    "                adjacent_seat_found = True\n",
    "    \n",
    "        if adjacent_seat_found==False:\n",
    "            child_seats[k] = (row_num, col_num)    #seat_passengers[(row_num, col_num)] = Passengers[k]['Type']\n",
    "            \n",
    "# check if all children are seated next to an adult\n",
    "if len(child_seats) == 0:\n",
    "    child_result = \"All children are seated next to an adult.\"\n",
    "    print(child_result)\n",
    "else:\n",
    "    child_result = f\"{len(child_seats)} children are not seated next to an adult.\"\n",
    "    print(f\"{len(child_seats)} children are not seated next to an adult. Their seat numbers are:\")\n",
    "    for k in child_seats:\n",
    "        print(f\"Child {k} is seated at row {child_seats[k][0]}, column {child_seats[k][1]}.\")"
   ]
  },
  {
   "cell_type": "code",
   "execution_count": 650,
   "metadata": {},
   "outputs": [
    {
     "name": "stdout",
     "output_type": "stream",
     "text": [
      "Client satisfaction is at 85.11%.\n"
     ]
    }
   ],
   "source": [
    "# Vérification de la satisfaction client\n",
    "\n",
    "opt_dist = {\n",
    "    0 : 0,\n",
    "    1 : 0,\n",
    "    2 : 1,\n",
    "    3 : 2,\n",
    "    4 : 4,\n",
    "    5 : 5,\n",
    "    6 : 6,\n",
    "    7 : 14,\n",
    "    8 : 14,\n",
    "    9 : 15,\n",
    "    10 : 15,\n",
    "    11 : 16,\n",
    "    12 : 16,\n",
    "    13 : 25,\n",
    "    14 : 25,\n",
    "    15 : 25,\n",
    "    16 : 26,\n",
    "    17 : 26,\n",
    "    18 : 26,\n",
    "    19 : 35,\n",
    "    20 : 35,\n",
    "    21 : 36,\n",
    "    22 : 36,\n",
    "    23 : 36,\n",
    "    24 : 36\n",
    "}\n",
    "\n",
    "\n",
    "\n",
    "Note_dist_opt = sum(opt_dist[len(Groupes[g])] for g in range(1, Nb_groups + 1))\n",
    "Note_dist_obt = sum([10*(X_max[g].x - X_min[g].x) + Y_max[g].x - Y_min[g].x for g in range(1,Nb_groups + 1) if len(Groupes[g]) >= 2])\n",
    "\n",
    "# print(Note_dist_opt)\n",
    "# print(int(Note_dist_obt))\n",
    "satisfaction_client = f'Client satisfaction is at {round((Note_dist_opt/Note_dist_obt)*100,2)}%.'\n",
    "print(satisfaction_client)"
   ]
  },
  {
   "cell_type": "code",
   "execution_count": 654,
   "metadata": {},
   "outputs": [],
   "source": [
    "# Sauvegarder les résultats sous format csv\n",
    "with open(f\"{date} résultat.csv\", mode='w', newline='') as fichier_csv:\n",
    "\n",
    "    # Créer l'objet writer\n",
    "    writer = csv.writer(fichier_csv)\n",
    "\n",
    "    # Écrire les en-têtes de colonne\n",
    "    writer.writerow(['Passager', 'i', 'j'])\n",
    "\n",
    "    # Écrire les données\n",
    "    for passager, (i, j) in D.items():\n",
    "        writer.writerow([passager, i, j])\n",
    "\n",
    "    # Fermer le fichier\n",
    "    fichier_csv.close()"
   ]
  },
  {
   "cell_type": "code",
   "execution_count": 655,
   "metadata": {},
   "outputs": [],
   "source": [
    "# Sauvegarder les résultats sous formats pickle\n",
    "\n",
    "# Ouvrir un fichier en mode binaire\n",
    "with open(f'{date}.pkl', 'wb') as fichier:\n",
    "    # Écrire le dictionnaire dans le fichier\n",
    "    pickle.dump(D, fichier)\n"
   ]
  },
  {
   "cell_type": "code",
   "execution_count": 656,
   "metadata": {},
   "outputs": [
    {
     "data": {
      "image/png": "[encoded data removed]",
      "text/plain": [
       "<Figure size 1040x1000 with 1 Axes>"
      ]
     },
     "metadata": {},
     "output_type": "display_data"
    }
   ],
   "source": [
    "# Create a figure of the plane\n",
    "\n",
    "\n",
    "fig, ax = plt.subplots(figsize=(10.4, 8 + 2*(data_file == \"7Nov.csv\")))\n",
    "\n",
    "# Create a rectangle for the aircraft fuselage\n",
    "ax.add_patch(plt.Rectangle((10, 0), 70, 10, facecolor='#c2c2c2', edgecolor='black'))\n",
    "ax.add_patch(plt.Rectangle((0, 0), 10, 300 + 60 * (data_file == \"7Nov.csv\"), facecolor='#c2c2c2', edgecolor='black'))\n",
    "\n",
    "# Dictionnaire des codes couleurs\n",
    "code_couleur = {\n",
    "    \"Homme\" : 'royalblue',\n",
    "    \"Femme\" : 'lightcoral',\n",
    "    \"Enfant\" : 'gold',\n",
    "    \"WCHR\" : 'sienna',\n",
    "    \"WCHB\" : 'darkgreen'\n",
    "}\n",
    "\n",
    "Seats = [\"A\",\"B\",\"C\",\"couloir\",\"D\",\"E\",\"F\"]\n",
    "\n",
    "\n",
    "# Create rectangles for the seats\n",
    "for row in range(1, Nb_rows + 1):\n",
    "    if row == Nb_business_passengers//4 + 3 and Nb_business_passengers != 0:\n",
    "     ax.add_patch(plt.Rectangle((10, y-1), 70, 0.5, fill=True,facecolor ='black', edgecolor='black'))\n",
    "\n",
    "    for col in range(1, Nb_rows2 + 1):\n",
    "        if (col == 4) or ((col == 2 or col == 6) and row <= Nb_business_passengers//4 + 1 and Nb_business_passengers != 0) :\n",
    "            continue  # Skip over the aisles and business cabine fake seats\n",
    "        x = 12 + (col - 1) * 10\n",
    "        y = 12 + (row - 1) * 10\n",
    "\n",
    "        if A[row-1 , col-1] == 0 :\n",
    "            ax.add_patch(plt.Rectangle((x, y), 8, 8, fill=False, edgecolor='black'))\n",
    "        else :\n",
    "            ax.add_patch(plt.Rectangle((x, y), 8, 8, fill=True,facecolor =code_couleur[Passengers[A[row-1 , col-1]]['Type']], edgecolor='black'))\n",
    "\n",
    "        # Plotting the passenger number and there group on the seat\n",
    "        if A[row-1 , col-1] == 0 :\n",
    "            plt.text(x + 4, y + 4, \" \", ha='center', va='center', fontsize=8)\n",
    "        else :\n",
    "            seat_label = f\"{int(A[row-1 , col-1])} - {Passengers[A[row-1 , col-1]]['Numero de groupe']}\" \n",
    "            plt.text(x + 4, y + 4, seat_label, ha='center', va='center', fontsize=8)\n",
    "\n",
    "# adding legend\n",
    "for index, type in enumerate(code_couleur.keys()):\n",
    "    ax.add_patch(plt.Rectangle((x + 20, y - 10*index), 8, 8, fill=True,facecolor =code_couleur[type], edgecolor='black'))\n",
    "    plt.text(x + 30, y - 10*index + 3, type, ha='left', va='center', fontsize=8)\n",
    "\n",
    "# adding rectangle to explain the numbers in each seat : Passenger number and Group ID\n",
    "ax.add_patch(plt.Rectangle((x + 12.5, y - 70), 25, 8, fill=False, edgecolor='black'))\n",
    "plt.text(x + 25, y - 67, \"N° passager - N° groupe\", ha='center', va='center', fontsize=8)\n",
    "\n",
    "# Plotting child results and client satisfaction\n",
    "plt.text(x + 28, y - 167, child_result,fontweight='bold', ha='center', va='center', fontsize=8)\n",
    "plt.text(x + 28, y - 177, satisfaction_client,fontweight='bold', ha='center', va='center', fontsize=8)\n",
    "\n",
    "\n",
    "# Label the rows and columns\n",
    "for row in range(1, Nb_rows + 1):\n",
    "    y = 12 + (row - 1) * 10\n",
    "    plt.text(5, y + 4, f\"Row {row}\", ha='center', va='center', fontsize=8)\n",
    "for col in range(1, Nb_rows2 + 1):\n",
    "    if col == 4:\n",
    "        continue  # Skip over the aisles\n",
    "    \n",
    "    x = 12 + (col - 1) * 10\n",
    "    plt.text(x + 4, 5, Seats[col-1], ha='center', va='center', fontsize=8)\n",
    "\n",
    "# Set the limits of the plot and remove the axes\n",
    "ax.set_xlim(0, 120)\n",
    "ax.set_ylim(0, 310 + 60*(data_file == \"7Nov.csv\"))\n",
    "ax.axis('off')\n",
    "# plt.legend(loc='upper right')\n",
    "plt.title(date)\n",
    "\n",
    "\n",
    "plt.show()\n",
    "fig.savefig(f'{data_file[:-4]}.png')\n"
   ]
  }
 ],
 "metadata": {
  "kernelspec": {
   "display_name": "Python 3",
   "language": "python",
   "name": "python3"
  },
  "language_info": {
   "codemirror_mode": {
    "name": "ipython",
    "version": 3
   },
   "file_extension": ".py",
   "mimetype": "text/x-python",
   "name": "python",
   "nbconvert_exporter": "python",
   "pygments_lexer": "ipython3",
   "version": "3.10.4"
  },
  "orig_nbformat": 4,
  "vscode": {
   "interpreter": {
    "hash": "369f2c481f4da34e4445cda3fffd2e751bd1c4d706f27375911949ba6bb62e1c"
   }
  }
 },
 "nbformat": 4,
 "nbformat_minor": 2
}
